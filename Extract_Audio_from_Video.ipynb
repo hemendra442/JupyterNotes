{
 "cells": [
  {
   "cell_type": "markdown",
   "metadata": {},
   "source": [
    "# MoviePy"
   ]
  },
  {
   "cell_type": "code",
   "execution_count": 1,
   "metadata": {},
   "outputs": [
    {
     "name": "stdout",
     "output_type": "stream",
     "text": [
      "Collecting moviepy\n",
      "  Downloading moviepy-1.0.3.tar.gz (388 kB)\n",
      "Requirement already satisfied: decorator<5.0,>=4.0.2 in c:\\users\\madhuyen\\anaconda3\\lib\\site-packages (from moviepy) (4.4.1)\n",
      "Requirement already satisfied: tqdm<5.0,>=4.11.2 in c:\\users\\madhuyen\\anaconda3\\lib\\site-packages (from moviepy) (4.46.1)\n",
      "Requirement already satisfied: requests<3.0,>=2.8.1 in c:\\users\\madhuyen\\appdata\\roaming\\python\\python37\\site-packages (from moviepy) (2.23.0)\n",
      "Collecting proglog<=1.0.0\n",
      "  Downloading proglog-0.1.9.tar.gz (10 kB)\n",
      "Requirement already satisfied: numpy>=1.17.3 in c:\\users\\madhuyen\\anaconda3\\lib\\site-packages (from moviepy) (1.18.1)\n",
      "Requirement already satisfied: imageio<3.0,>=2.5 in c:\\users\\madhuyen\\anaconda3\\lib\\site-packages (from moviepy) (2.6.1)\n",
      "Collecting imageio_ffmpeg>=0.2.0\n",
      "  Downloading imageio_ffmpeg-0.4.2-py3-none-win_amd64.whl (22.6 MB)\n",
      "Requirement already satisfied: idna<3,>=2.5 in c:\\users\\madhuyen\\anaconda3\\lib\\site-packages (from requests<3.0,>=2.8.1->moviepy) (2.8)\n",
      "Requirement already satisfied: certifi>=2017.4.17 in c:\\users\\madhuyen\\anaconda3\\lib\\site-packages (from requests<3.0,>=2.8.1->moviepy) (2019.11.28)\n",
      "Requirement already satisfied: chardet<4,>=3.0.2 in c:\\users\\madhuyen\\anaconda3\\lib\\site-packages (from requests<3.0,>=2.8.1->moviepy) (3.0.4)\n",
      "Requirement already satisfied: urllib3!=1.25.0,!=1.25.1,<1.26,>=1.21.1 in c:\\users\\madhuyen\\anaconda3\\lib\\site-packages (from requests<3.0,>=2.8.1->moviepy) (1.25.8)\n",
      "Requirement already satisfied: pillow in c:\\users\\madhuyen\\anaconda3\\lib\\site-packages (from imageio<3.0,>=2.5->moviepy) (7.0.0)\n",
      "Building wheels for collected packages: moviepy, proglog\n",
      "  Building wheel for moviepy (setup.py): started\n",
      "  Building wheel for moviepy (setup.py): finished with status 'done'\n",
      "  Created wheel for moviepy: filename=moviepy-1.0.3-py3-none-any.whl size=110732 sha256=9605232023ffc67a5d2206aca0f01b064c0bd0466214e431ede6ec96f036803e\n",
      "  Stored in directory: c:\\users\\madhuyen\\appdata\\local\\pip\\cache\\wheels\\56\\dc\\2b\\9cd600d483c04af3353d66623056fc03faed76b7518faae4df\n",
      "  Building wheel for proglog (setup.py): started\n",
      "  Building wheel for proglog (setup.py): finished with status 'done'\n",
      "  Created wheel for proglog: filename=proglog-0.1.9-py3-none-any.whl size=6153 sha256=d7c4140353745cfd0e684399aa1bec8c00067a62261565100958eb5f81bb8763\n",
      "  Stored in directory: c:\\users\\madhuyen\\appdata\\local\\pip\\cache\\wheels\\12\\36\\1f\\dc61e6ac10781d63cf6fa045eb09fa613a667384e12cb6e6e0\n",
      "Successfully built moviepy proglog\n",
      "Installing collected packages: proglog, imageio-ffmpeg, moviepy\n",
      "Successfully installed imageio-ffmpeg-0.4.2 moviepy-1.0.3 proglog-0.1.9\n",
      "Note: you may need to restart the kernel to use updated packages.\n"
     ]
    }
   ],
   "source": [
    "#pip install moviepy"
   ]
  },
  {
   "cell_type": "code",
   "execution_count": 1,
   "metadata": {},
   "outputs": [],
   "source": [
    "from moviepy.editor import *"
   ]
  },
  {
   "cell_type": "code",
   "execution_count": 4,
   "metadata": {},
   "outputs": [
    {
     "name": "stderr",
     "output_type": "stream",
     "text": [
      "\r",
      "chunk:   0%|          | 0/4589 [00:00<?, ?it/s, now=None]"
     ]
    },
    {
     "name": "stdout",
     "output_type": "stream",
     "text": [
      "MoviePy - Writing audio in C:\\Users\\madhuyen\\Desktop\\HEMENDRA J\\PythonMusic\\FRIENDS.mp3\n"
     ]
    },
    {
     "name": "stderr",
     "output_type": "stream",
     "text": [
      "                                                                      "
     ]
    },
    {
     "name": "stdout",
     "output_type": "stream",
     "text": [
      "MoviePy - Done.\n"
     ]
    },
    {
     "name": "stderr",
     "output_type": "stream",
     "text": [
      "\r"
     ]
    }
   ],
   "source": [
    "video = VideoFileClip(\"C:\\\\Users\\\\madhuyen\\\\Desktop\\\\HEMENDRA J\\\\FRIENDS.mp4\") \n",
    "audio = video.audio\n",
    "audio.write_audiofile(\"C:\\\\Users\\\\madhuyen\\\\Desktop\\\\HEMENDRA J\\\\PythonMusic\\\\FRIENDS.mp3\") "
   ]
  },
  {
   "cell_type": "code",
   "execution_count": null,
   "metadata": {},
   "outputs": [],
   "source": []
  }
 ],
 "metadata": {
  "kernelspec": {
   "display_name": "Python 3",
   "language": "python",
   "name": "python3"
  },
  "language_info": {
   "codemirror_mode": {
    "name": "ipython",
    "version": 3
   },
   "file_extension": ".py",
   "mimetype": "text/x-python",
   "name": "python",
   "nbconvert_exporter": "python",
   "pygments_lexer": "ipython3",
   "version": "3.7.6"
  }
 },
 "nbformat": 4,
 "nbformat_minor": 4
}

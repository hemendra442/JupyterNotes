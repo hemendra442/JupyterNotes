{
 "cells": [
  {
   "cell_type": "code",
   "execution_count": 1,
   "metadata": {},
   "outputs": [],
   "source": [
    "import os\n",
    "from gtts import gTTS\n",
    "import playsound"
   ]
  },
  {
   "cell_type": "code",
   "execution_count": 5,
   "metadata": {},
   "outputs": [],
   "source": [
    "lyricsText = open(\"C:\\\\Users\\\\madhuyen\\\\Desktop\\\\HEMENDRA J\\\\friendstext.txt\",'r')\n",
    "textSong = lyricsText.read().replace(\"\\n\",\"\")\n",
    "t2s = gTTS(text = textSong, lang = \"en\", slow=False)\n",
    "t2s.save(\"Friends.mp3\")\n",
    "playsound.playsound(\"Friends.mp3\")"
   ]
  },
  {
   "cell_type": "code",
   "execution_count": null,
   "metadata": {},
   "outputs": [],
   "source": []
  }
 ],
 "metadata": {
  "kernelspec": {
   "display_name": "Python 3",
   "language": "python",
   "name": "python3"
  },
  "language_info": {
   "codemirror_mode": {
    "name": "ipython",
    "version": 3
   },
   "file_extension": ".py",
   "mimetype": "text/x-python",
   "name": "python",
   "nbconvert_exporter": "python",
   "pygments_lexer": "ipython3",
   "version": "3.7.6"
  }
 },
 "nbformat": 4,
 "nbformat_minor": 4
}

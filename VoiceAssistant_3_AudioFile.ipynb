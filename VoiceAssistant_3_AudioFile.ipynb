{
 "cells": [
  {
   "cell_type": "code",
   "execution_count": 4,
   "metadata": {},
   "outputs": [],
   "source": [
    "import os\n",
    "import playsound\n",
    "from gtts import gTTS\n",
    "import speech_recognition as sr"
   ]
  },
  {
   "cell_type": "code",
   "execution_count": 5,
   "metadata": {},
   "outputs": [],
   "source": [
    "r = sr.Recognizer()\n",
    "wavfile = sr.AudioFile('C:\\\\Users\\\\madhuyen\\\\Desktop\\\\HEMENDRA J\\\\FRIENDS OFFICIAL FRIENDZONE ANTHEM.wav')"
   ]
  },
  {
   "cell_type": "code",
   "execution_count": 9,
   "metadata": {},
   "outputs": [
    {
     "name": "stdout",
     "output_type": "stream",
     "text": [
      "audio1:  crazy\n",
      "audio2:  animated Halloween\n",
      "Invalid:  \n"
     ]
    }
   ],
   "source": [
    "with wavfile as source:\n",
    "    audio1 = r.record(source, duration=60)\n",
    "    audio2 = r.record(source, duration=60)\n",
    "    audio3 = r.record(source, offset=1, duration=60)\n",
    "    #print(type(audio))\n",
    "try:\n",
    "    print(\"audio1: \",r.recognize_google(audio1))\n",
    "    print(\"audio2: \",r.recognize_google(audio2))\n",
    "    print(\"audio3: \",r.recognize_google(audio3))\n",
    "except Exception as e:\n",
    "    print(\"Invalid: \",e)"
   ]
  },
  {
   "cell_type": "code",
   "execution_count": null,
   "metadata": {},
   "outputs": [],
   "source": []
  }
 ],
 "metadata": {
  "kernelspec": {
   "display_name": "Python 3",
   "language": "python",
   "name": "python3"
  },
  "language_info": {
   "codemirror_mode": {
    "name": "ipython",
    "version": 3
   },
   "file_extension": ".py",
   "mimetype": "text/x-python",
   "name": "python",
   "nbconvert_exporter": "python",
   "pygments_lexer": "ipython3",
   "version": "3.7.6"
  }
 },
 "nbformat": 4,
 "nbformat_minor": 4
}

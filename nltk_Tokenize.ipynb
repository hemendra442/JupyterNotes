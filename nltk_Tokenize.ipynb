{
 "cells": [
  {
   "cell_type": "code",
   "execution_count": null,
   "metadata": {},
   "outputs": [],
   "source": [
    "#pip install nltk"
   ]
  },
  {
   "cell_type": "code",
   "execution_count": null,
   "metadata": {},
   "outputs": [],
   "source": [
    "#pip install jupyter-tabnine"
   ]
  },
  {
   "cell_type": "markdown",
   "metadata": {},
   "source": [
    "# There are 6 different tokenizers are available."
   ]
  },
  {
   "cell_type": "code",
   "execution_count": 1,
   "metadata": {},
   "outputs": [],
   "source": [
    "from nltk import word_tokenize\n",
    "from nltk import sent_tokenize"
   ]
  },
  {
   "cell_type": "code",
   "execution_count": 2,
   "metadata": {},
   "outputs": [],
   "source": [
    "text = \"\"\"To run the below python program, (NLTK) natural language toolkit has to be installed in your system.\n",
    "The NLTK module is a massive tool kit, aimed at helping you with the entire Natural Language Processing (NLP) methodology.\n",
    "In order to install NLTK run the following commands in your terminal.\"\"\""
   ]
  },
  {
   "cell_type": "code",
   "execution_count": 3,
   "metadata": {},
   "outputs": [
    {
     "name": "stderr",
     "output_type": "stream",
     "text": [
      "[nltk_data] Downloading package punkt to\n",
      "[nltk_data]     C:\\Users\\madhuyen\\AppData\\Roaming\\nltk_data...\n",
      "[nltk_data]   Package punkt is already up-to-date!\n"
     ]
    },
    {
     "data": {
      "text/plain": [
       "True"
      ]
     },
     "execution_count": 3,
     "metadata": {},
     "output_type": "execute_result"
    }
   ],
   "source": [
    "import nltk\n",
    "nltk.download('punkt')"
   ]
  },
  {
   "cell_type": "code",
   "execution_count": 4,
   "metadata": {},
   "outputs": [
    {
     "data": {
      "text/plain": [
       "['To',\n",
       " 'run',\n",
       " 'the',\n",
       " 'below',\n",
       " 'python',\n",
       " 'program',\n",
       " ',',\n",
       " '(',\n",
       " 'NLTK',\n",
       " ')',\n",
       " 'natural',\n",
       " 'language',\n",
       " 'toolkit',\n",
       " 'has',\n",
       " 'to',\n",
       " 'be',\n",
       " 'installed',\n",
       " 'in',\n",
       " 'your',\n",
       " 'system',\n",
       " '.',\n",
       " 'The',\n",
       " 'NLTK',\n",
       " 'module',\n",
       " 'is',\n",
       " 'a',\n",
       " 'massive',\n",
       " 'tool',\n",
       " 'kit',\n",
       " ',',\n",
       " 'aimed',\n",
       " 'at',\n",
       " 'helping',\n",
       " 'you',\n",
       " 'with',\n",
       " 'the',\n",
       " 'entire',\n",
       " 'Natural',\n",
       " 'Language',\n",
       " 'Processing',\n",
       " '(',\n",
       " 'NLP',\n",
       " ')',\n",
       " 'methodology',\n",
       " '.',\n",
       " 'In',\n",
       " 'order',\n",
       " 'to',\n",
       " 'install',\n",
       " 'NLTK',\n",
       " 'run',\n",
       " 'the',\n",
       " 'following',\n",
       " 'commands',\n",
       " 'in',\n",
       " 'your',\n",
       " 'terminal',\n",
       " '.']"
      ]
     },
     "execution_count": 4,
     "metadata": {},
     "output_type": "execute_result"
    }
   ],
   "source": [
    "word_tokenize(text)"
   ]
  },
  {
   "cell_type": "code",
   "execution_count": 5,
   "metadata": {},
   "outputs": [
    {
     "data": {
      "text/plain": [
       "['To run the below python program, (NLTK) natural language toolkit has to be installed in your system.',\n",
       " 'The NLTK module is a massive tool kit, aimed at helping you with the entire Natural Language Processing (NLP) methodology.',\n",
       " 'In order to install NLTK run the following commands in your terminal.']"
      ]
     },
     "execution_count": 5,
     "metadata": {},
     "output_type": "execute_result"
    }
   ],
   "source": [
    "sent_tokenize(text)"
   ]
  },
  {
   "cell_type": "code",
   "execution_count": null,
   "metadata": {},
   "outputs": [],
   "source": []
  }
 ],
 "metadata": {
  "kernelspec": {
   "display_name": "Python 3",
   "language": "python",
   "name": "python3"
  },
  "language_info": {
   "codemirror_mode": {
    "name": "ipython",
    "version": 3
   },
   "file_extension": ".py",
   "mimetype": "text/x-python",
   "name": "python",
   "nbconvert_exporter": "python",
   "pygments_lexer": "ipython3",
   "version": "3.7.6"
  }
 },
 "nbformat": 4,
 "nbformat_minor": 4
}

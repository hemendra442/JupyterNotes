{
 "cells": [
  {
   "cell_type": "code",
   "execution_count": 1,
   "metadata": {},
   "outputs": [],
   "source": [
    "#pip install moviepy \n",
    "\n",
    "\"\"\"TRANSLATE YOUTUBE VIDEOS IN NEW LANGUAGES\n",
    "\n",
    "Translate audio into subtitles\n",
    "\n",
    "Translate_Audio_to_Captions_Language\"\"\""
   ]
  },
  {
   "cell_type": "code",
   "execution_count": 2,
   "metadata": {},
   "outputs": [],
   "source": [
    "from moviepy.editor import *\n",
    "#https://github.com/Zulko/moviepy/issues/378 --error"
   ]
  },
  {
   "cell_type": "code",
   "execution_count": 11,
   "metadata": {},
   "outputs": [
    {
     "name": "stdout",
     "output_type": "stream",
     "text": [
      "MoviePy - Writing audio in C:\\Users\\madhuyen\\Desktop\\HEMENDRA J\\PythonMusic\\WhyPythonAud.mp3\n"
     ]
    },
    {
     "name": "stderr",
     "output_type": "stream",
     "text": [
      "                                                                       "
     ]
    },
    {
     "name": "stdout",
     "output_type": "stream",
     "text": [
      "MoviePy - Done.\n"
     ]
    },
    {
     "name": "stderr",
     "output_type": "stream",
     "text": [
      "\r"
     ]
    }
   ],
   "source": [
    "video = VideoFileClip(\"C:\\\\Users\\\\madhuyen\\\\Desktop\\\\HEMENDRA J\\\\PythonMusic\\\\WhyPython.mp4\")\n",
    "audio = video.audio\n",
    "audio.write_audiofile(\"C:\\\\Users\\\\madhuyen\\\\Desktop\\\\HEMENDRA J\\\\PythonMusic\\\\WhyPythonAud.mp3\")"
   ]
  },
  {
   "cell_type": "code",
   "execution_count": 4,
   "metadata": {},
   "outputs": [],
   "source": [
    "#Audio to Text\n",
    "from gtts import gTTS\n",
    "import playsound\n",
    "import speech_recognition as sr"
   ]
  },
  {
   "cell_type": "code",
   "execution_count": 5,
   "metadata": {},
   "outputs": [],
   "source": [
    "r = sr.Recognizer()\n",
    "wavfile = sr.AudioFile(\"C:\\\\Users\\\\madhuyen\\\\Desktop\\\\HEMENDRA J\\\\PythonMusic\\\\WhyPythonAud.wav\")\n",
    "with wavfile as source:\n",
    "    audio1 = r.record(wavfile, duration=60)\n",
    "    audio2 = r.record(wavfile, duration=60)\n",
    "    audio3 = r.record(wavfile, duration=60)\n",
    "#Limitation ---- Able to record only max of 1 minute\n",
    "try:\n",
    "    write_text_file = open('C:\\\\Users\\\\madhuyen\\\\Desktop\\\\HEMENDRA J\\\\PythonMusic\\\\WhyPython.txt','w')\n",
    "    write_text_file.write(r.recognize_google(audio1))\n",
    "    write_text_file.write(r.recognize_google(audio2))\n",
    "    write_text_file.write(r.recognize_google(audio3))\n",
    "    \n",
    "except Exception as e:\n",
    "    print(\"Invalid: \",e)\n",
    "    \n",
    "finally:\n",
    "    write_text_file.close()\n",
    "\n",
    "\n",
    "    "
   ]
  },
  {
   "cell_type": "code",
   "execution_count": 6,
   "metadata": {},
   "outputs": [
    {
     "name": "stdout",
     "output_type": "stream",
     "text": [
      "M&L caffeinated so let's go to my personal favorite programming language off the day and off the weekend I guess off the year really I will tell you why I like it so much and give you five different reasons why I think you should start learning in this video is brought to you by hackbright Academy the engineering school for women for womenwe got the picture basically you're a computer needs to understand that okay so this is one sentence this is another sense it's just like the way we use punctuation to kind of show people that this sentence has ended so send text is basically that how your code is structured in terms of symbols and come ons and the words that you use Python syntax is great because it's very keen it doesn't have as many brackets or semicolons andI'm not just because of how easy it is to read but also because of how versatile it is once you learn it not only you can use it for web development but you can also use it for data science which is incredible if you think about it you learn one and then you can do multiple things with it and in fact some research language language\n"
     ]
    }
   ],
   "source": [
    "#Read text from file\n",
    "try:\n",
    "    read_text_file = open('C:\\\\Users\\\\madhuyen\\\\Desktop\\\\HEMENDRA J\\\\PythonMusic\\\\WhyPython.txt','r')\n",
    "    print(read_text_file.read())\n",
    "except Exception as e2:\n",
    "    print(\"Invalid_read: \",e)\n",
    "finally:\n",
    "    read_text_file.close()"
   ]
  },
  {
   "cell_type": "code",
   "execution_count": 7,
   "metadata": {},
   "outputs": [],
   "source": [
    "#pip install googletrans"
   ]
  },
  {
   "cell_type": "code",
   "execution_count": 8,
   "metadata": {},
   "outputs": [],
   "source": [
    "# reff --- https://stackabuse.com/text-translation-with-google-translate-api-in-python/"
   ]
  },
  {
   "cell_type": "code",
   "execution_count": 9,
   "metadata": {},
   "outputs": [],
   "source": [
    "from googletrans import Translator\n",
    "import googletrans\n",
    "\n",
    "translator = Translator()\n",
    "#print(googletrans.LANGUAGES)"
   ]
  },
  {
   "cell_type": "code",
   "execution_count": 11,
   "metadata": {},
   "outputs": [
    {
     "name": "stdout",
     "output_type": "stream",
     "text": [
      "M & L కాబట్టి రోజు ఆఫ్ నా వ్యక్తిగత ఇష్టమైన ప్రోగ్రామింగ్ భాష వెళ్లి వారాంతంలో ఆఫ్ నేను సంవత్సరం అంచనా చాలా మరియు నేను మీరు ఈ వీడియో లో నేర్చుకోవడం మొదలు ఉండాలి అనుకుంటున్నాను ఎందుకు మీరు ఐదు వేర్వేరు కారణాల ఇవ్వాలని ఎందుకు నేను మాదిరిగా నేను ఇత్సెల్ఫ్ వీలు Caffeinated womenwe చిత్రం వచ్చింది మహిళలకు hackbright అకాడమీ ఇంజనీరింగ్ స్కూల్ని ద్వారా మీరు తీసుకువచ్చారు ఉంది ప్రాథమికంగా మీరు ఈ మరొక కోణంలో ఇది కేవలం మేము ప్రదర్శన మంది రకమైన విరామ ఉపయోగించడానికి మార్గం వంటిది కాబట్టి ఈ ఒక వాక్యం అని ఓకే అర్థం ఒక కంప్యూటర్ కావాలి ఉన్నాము పంపు టెక్స్ట్ మీ సంకేత పదాలను చిహ్నాలు పరంగా నిర్మాణాత్మక మరియు ons వచ్చి ఎలా మరియు మీరు ఉపయోగించే పైథాన్ వాక్యనిర్మాణం గొప్ప అని అది చాలా ఇది ఆసక్తి ఎందుకంటే లేదు లేదా సెమికోలన్లు andI'm అనేక బ్రాకెట్లలో గా ఉండదు రప్పించింది కాబట్టి ఈ వాక్యం ముగిసిన కేవలం ఎందుకంటే అది చదివి కానీ కూడా ఎందుకంటే ఎంత సులభమో ఎలా మీరు మాత్రమే మీరు వెబ్ అభివృద్ధి దానిని ఉపయోగించవచ్చు ఎలాగో ఒకసారి అది బహుముఖ కానీ మీరు కూడా డేటా సైన్స్ మీరు అనుకుంటే అపురూపమైనది ఇది Abou దానిని ఉపయోగించవచ్చు మీరు ఒక తెలుసుకోవడానికి t మరియు తరువాత మీరు దానిని మరియు నిజానికి కొన్ని పరిశోధన భాషని బహుళ పనులను చేయవచ్చు\n"
     ]
    }
   ],
   "source": [
    "#File operation for providing text to google translator method\n",
    "\n",
    "try:\n",
    "    read_text_file2 = open('C:\\\\Users\\\\madhuyen\\\\Desktop\\\\HEMENDRA J\\\\PythonMusic\\\\WhyPython.txt','r')\n",
    "    source_Text = read_text_file2.read()\n",
    "except Exception as e2:\n",
    "    print(\"Invalid_read: \",e2)\n",
    "finally:\n",
    "    read_text_file2.close()\n",
    "\n",
    "# File for storing converted text\n",
    "try:\n",
    "    write_text_file2 = open('C:\\\\Users\\\\madhuyen\\\\Desktop\\\\HEMENDRA J\\\\PythonMusic\\\\WhyPythonTelugu.txt','wb')\n",
    "    dest_result = translator.translate(source_Text,dest='te')\n",
    "    print(dest_result.text)\n",
    "    #print(dest_result.pronunciation)\n",
    "    write_text_file2.write(dest_result.text.encode(\"utf-8\"))\n",
    "except Exception as e2:\n",
    "    print(\"Invalid_write: \",e2)\n",
    "finally:\n",
    "    write_text_file2.close()"
   ]
  },
  {
   "cell_type": "code",
   "execution_count": 12,
   "metadata": {},
   "outputs": [
    {
     "name": "stdout",
     "output_type": "stream",
     "text": [
      "Moviepy - Building video C:\\Users\\madhuyen\\Desktop\\HEMENDRA J\\PythonMusic\\whyPython_TextClip.avi.\n",
      "MoviePy - Writing audio in whyPython_TextClipTEMP_MPY_wvf_snd.mp3\n"
     ]
    },
    {
     "name": "stderr",
     "output_type": "stream",
     "text": [
      "                                                                  \r"
     ]
    },
    {
     "name": "stdout",
     "output_type": "stream",
     "text": [
      "MoviePy - Done.\n",
      "Moviepy - Writing video C:\\Users\\madhuyen\\Desktop\\HEMENDRA J\\PythonMusic\\whyPython_TextClip.avi\n",
      "\n"
     ]
    },
    {
     "name": "stderr",
     "output_type": "stream",
     "text": [
      "                                                               "
     ]
    },
    {
     "name": "stdout",
     "output_type": "stream",
     "text": [
      "Moviepy - Done !\n",
      "Moviepy - video ready C:\\Users\\madhuyen\\Desktop\\HEMENDRA J\\PythonMusic\\whyPython_TextClip.avi\n"
     ]
    },
    {
     "name": "stderr",
     "output_type": "stream",
     "text": [
      "\r"
     ]
    }
   ],
   "source": [
    "#show text on Video Clip\n",
    "\n",
    "from moviepy.editor import *\n",
    "from moviepy.video.io.VideoFileClip import VideoFileClip\n",
    "\n",
    "# Load myHolidays.mp4 and select the subclip 00:00:50 - 00:00:60\n",
    "clip =VideoFileClip(\"C:\\\\Users\\\\madhuyen\\\\Desktop\\\\HEMENDRA J\\\\PythonMusic\\\\WhyPython.mp4\").subclip(50,60)\n",
    "# Generate a text clip (many options available ! )\n",
    "txt_clip = TextClip(\"Why Python\",fontsize=70,color='green')\n",
    "txt_clip = txt_clip.set_pos('center').set_duration(10)\n",
    "\n",
    "# Overlay the text clip above the first clip\n",
    "final_clip = CompositeVideoClip([clip, txt_clip])\n",
    "\n",
    "# write the result to a file in any format\n",
    "final_clip.to_videofile(\"C:\\\\Users\\\\madhuyen\\\\Desktop\\\\HEMENDRA J\\\\PythonMusic\\\\whyPython_TextClip.avi\",fps=25, codec='mpeg4')"
   ]
  },
  {
   "cell_type": "code",
   "execution_count": 1,
   "metadata": {},
   "outputs": [
    {
     "name": "stdout",
     "output_type": "stream",
     "text": [
      "Moviepy - Building video C:\\Users\\madhuyen\\Desktop\\HEMENDRA J\\PythonMusic\\whyPython_SubTitleClip3.avi.\n",
      "MoviePy - Writing audio in whyPython_SubTitleClip3TEMP_MPY_wvf_snd.mp3\n"
     ]
    },
    {
     "name": "stderr",
     "output_type": "stream",
     "text": [
      "                                                                       \r"
     ]
    },
    {
     "name": "stdout",
     "output_type": "stream",
     "text": [
      "MoviePy - Done.\n",
      "Moviepy - Writing video C:\\Users\\madhuyen\\Desktop\\HEMENDRA J\\PythonMusic\\whyPython_SubTitleClip3.avi\n",
      "\n"
     ]
    },
    {
     "name": "stderr",
     "output_type": "stream",
     "text": [
      "                                                                   \r"
     ]
    },
    {
     "name": "stdout",
     "output_type": "stream",
     "text": [
      "Moviepy - Done !\n",
      "Moviepy - video ready C:\\Users\\madhuyen\\Desktop\\HEMENDRA J\\PythonMusic\\whyPython_SubTitleClip3.avi\n"
     ]
    }
   ],
   "source": [
    "#show destination lang converted text on video\n",
    "# Faced -- https://github.com/Zulko/moviepy/issues/1127\n",
    "\n",
    "from moviepy.editor import *\n",
    "from moviepy.video.io.VideoFileClip import VideoFileClip\n",
    "from moviepy.video.tools.subtitles import SubtitlesClip\n",
    "\n",
    "video =VideoFileClip(\"C:\\\\Users\\\\madhuyen\\\\Desktop\\\\HEMENDRA J\\\\PythonMusic\\\\WhyPython.mp4\")\n",
    "\n",
    "#sub = SubtitlesClip(\"C:\\\\Users\\\\madhuyen\\\\Desktop\\\\HEMENDRA J\\\\PythonMusic\\\\WhyPythonTelugu.srt\")\n",
    "sub2 = SubtitlesClip(\"C:\\\\Users\\\\madhuyen\\\\Desktop\\\\HEMENDRA J\\\\PythonMusic\\\\WhyPython.srt\")\n",
    "\n",
    "# Overlay the subtitle clip above the first clip\n",
    "#final_clip = CompositeVideoClip([video, sub])\n",
    "final_clip2 = CompositeVideoClip([video, sub2])\n",
    "\n",
    "# write the result to a file in any format\n",
    "#final_clip.to_videofile(\"C:\\\\Users\\\\madhuyen\\\\Desktop\\\\HEMENDRA J\\\\PythonMusic\\\\whyPython_SubTitleClip.avi\",fps=video.fps, codec='mpeg4')\n",
    "final_clip2.to_videofile(\"C:\\\\Users\\\\madhuyen\\\\Desktop\\\\HEMENDRA J\\\\PythonMusic\\\\whyPython_SubTitleClip3.avi\",fps=video.fps, codec='mpeg4')"
   ]
  },
  {
   "cell_type": "code",
   "execution_count": null,
   "metadata": {},
   "outputs": [],
   "source": []
  }
 ],
 "metadata": {
  "kernelspec": {
   "display_name": "Python 3",
   "language": "python",
   "name": "python3"
  },
  "language_info": {
   "codemirror_mode": {
    "name": "ipython",
    "version": 3
   },
   "file_extension": ".py",
   "mimetype": "text/x-python",
   "name": "python",
   "nbconvert_exporter": "python",
   "pygments_lexer": "ipython3",
   "version": "3.7.6"
  }
 },
 "nbformat": 4,
 "nbformat_minor": 4
}

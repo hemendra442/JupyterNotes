{
 "cells": [
  {
   "cell_type": "code",
   "execution_count": 1,
   "metadata": {},
   "outputs": [
    {
     "name": "stdout",
     "output_type": "stream",
     "text": [
      "Requirement already satisfied: moviepy in c:\\users\\madhuyen\\anaconda3\\lib\\site-packages (1.0.3)\n",
      "Requirement already satisfied: numpy; python_version >= \"2.7\" in c:\\users\\madhuyen\\anaconda3\\lib\\site-packages (from moviepy) (1.18.1)\n",
      "Requirement already satisfied: proglog<=1.0.0 in c:\\users\\madhuyen\\anaconda3\\lib\\site-packages (from moviepy) (0.1.9)\n",
      "Requirement already satisfied: requests<3.0,>=2.8.1 in c:\\users\\madhuyen\\appdata\\roaming\\python\\python37\\site-packages (from moviepy) (2.23.0)\n",
      "Requirement already satisfied: tqdm<5.0,>=4.11.2 in c:\\users\\madhuyen\\anaconda3\\lib\\site-packages (from moviepy) (4.46.1)\n",
      "Requirement already satisfied: decorator<5.0,>=4.0.2 in c:\\users\\madhuyen\\anaconda3\\lib\\site-packages (from moviepy) (4.4.1)\n",
      "Requirement already satisfied: imageio-ffmpeg>=0.2.0; python_version >= \"3.4\" in c:\\users\\madhuyen\\anaconda3\\lib\\site-packages (from moviepy) (0.4.2)\n",
      "Requirement already satisfied: imageio<3.0,>=2.5; python_version >= \"3.4\" in c:\\users\\madhuyen\\anaconda3\\lib\\site-packages (from moviepy) (2.6.1)\n",
      "Requirement already satisfied: chardet<4,>=3.0.2 in c:\\users\\madhuyen\\anaconda3\\lib\\site-packages (from requests<3.0,>=2.8.1->moviepy) (3.0.4)\n",
      "Requirement already satisfied: urllib3!=1.25.0,!=1.25.1,<1.26,>=1.21.1 in c:\\users\\madhuyen\\anaconda3\\lib\\site-packages (from requests<3.0,>=2.8.1->moviepy) (1.25.8)\n",
      "Requirement already satisfied: idna<3,>=2.5 in c:\\users\\madhuyen\\anaconda3\\lib\\site-packages (from requests<3.0,>=2.8.1->moviepy) (2.8)\n",
      "Requirement already satisfied: certifi>=2017.4.17 in c:\\users\\madhuyen\\anaconda3\\lib\\site-packages (from requests<3.0,>=2.8.1->moviepy) (2019.11.28)\n",
      "Requirement already satisfied: pillow in c:\\users\\madhuyen\\anaconda3\\lib\\site-packages (from imageio<3.0,>=2.5; python_version >= \"3.4\"->moviepy) (7.0.0)\n",
      "Note: you may need to restart the kernel to use updated packages.\n"
     ]
    }
   ],
   "source": [
    "#pip install moviepy"
   ]
  },
  {
   "cell_type": "code",
   "execution_count": 2,
   "metadata": {},
   "outputs": [],
   "source": [
    "from moviepy.editor import *"
   ]
  },
  {
   "cell_type": "code",
   "execution_count": 3,
   "metadata": {},
   "outputs": [
    {
     "name": "stdout",
     "output_type": "stream",
     "text": [
      "MoviePy - Writing audio in C:\\Users\\madhuyen\\Desktop\\HEMENDRA J\\PythonMusic\\JDSpeechAudio.wav\n"
     ]
    },
    {
     "name": "stderr",
     "output_type": "stream",
     "text": [
      "                                                                       "
     ]
    },
    {
     "name": "stdout",
     "output_type": "stream",
     "text": [
      "MoviePy - Done.\n"
     ]
    },
    {
     "name": "stderr",
     "output_type": "stream",
     "text": [
      "\r"
     ]
    }
   ],
   "source": [
    "video = VideoFileClip(\"C:\\\\Users\\\\madhuyen\\\\Desktop\\\\HEMENDRA J\\\\PythonMusic\\\\JD Speech.mp4\")\n",
    "audio = video.audio\n",
    "audio.write_audiofile('C:\\\\Users\\\\madhuyen\\\\Desktop\\\\HEMENDRA J\\\\PythonMusic\\\\JDSpeechAudio.wav')"
   ]
  },
  {
   "cell_type": "code",
   "execution_count": 4,
   "metadata": {},
   "outputs": [],
   "source": [
    "#Audio to Text\n",
    "from gtts import gTTS\n",
    "import playsound\n",
    "import speech_recognition as sr"
   ]
  },
  {
   "cell_type": "code",
   "execution_count": 10,
   "metadata": {},
   "outputs": [
    {
     "name": "stdout",
     "output_type": "stream",
     "text": [
      "Monica Quintero College\n"
     ]
    }
   ],
   "source": [
    "r = sr.Recognizer()\n",
    "wavfile = sr.AudioFile(\"C:\\\\Users\\\\madhuyen\\\\Desktop\\\\HEMENDRA J\\\\PythonMusic\\\\JDSpeechAudio.wav\")\n",
    "with wavfile as source:\n",
    "    audio1 = r.record(wavfile, duration=60)\n",
    "    audio2 = r.record(wavfile, duration=60)\n",
    "    audio3 = r.record(wavfile, duration=60)\n",
    "#Limitation ---- Able to record only max of 1 minute\n",
    "\n",
    "try:\n",
    "    write_text_file = open('C:\\\\Users\\\\madhuyen\\\\Desktop\\\\HEMENDRA J\\\\PythonMusic\\\\JDSpeechAudio.txt','w')\n",
    "    print(r.recognize_google(audio1))\n",
    "    write_text_file.write(r.recognize_google(audio1))\n",
    "    write_text_file.write(r.recognize_google(audio2))\n",
    "    write_text_file.write(r.recognize_google(audio3))\n",
    "    \n",
    "except Exception as e:\n",
    "    print(\"Invalid: \",e)\n",
    "    \n",
    "finally:\n",
    "    write_text_file.close()"
   ]
  },
  {
   "cell_type": "code",
   "execution_count": null,
   "metadata": {},
   "outputs": [],
   "source": []
  }
 ],
 "metadata": {
  "kernelspec": {
   "display_name": "Python 3",
   "language": "python",
   "name": "python3"
  },
  "language_info": {
   "codemirror_mode": {
    "name": "ipython",
    "version": 3
   },
   "file_extension": ".py",
   "mimetype": "text/x-python",
   "name": "python",
   "nbconvert_exporter": "python",
   "pygments_lexer": "ipython3",
   "version": "3.7.6"
  }
 },
 "nbformat": 4,
 "nbformat_minor": 4
}

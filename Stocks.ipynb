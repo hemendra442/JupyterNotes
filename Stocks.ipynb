{
 "cells": [
  {
   "cell_type": "code",
   "execution_count": 2,
   "metadata": {},
   "outputs": [],
   "source": [
    "#pip install yfinance"
   ]
  },
  {
   "cell_type": "code",
   "execution_count": 3,
   "metadata": {},
   "outputs": [],
   "source": [
    "import yfinance as yf"
   ]
  },
  {
   "cell_type": "code",
   "execution_count": 9,
   "metadata": {},
   "outputs": [],
   "source": [
    "microsoft = yf.Ticker(\"MSFT\")"
   ]
  },
  {
   "cell_type": "code",
   "execution_count": 10,
   "metadata": {},
   "outputs": [
    {
     "name": "stdout",
     "output_type": "stream",
     "text": [
      "{'zip': '98052', 'sector': 'Technology', 'fullTimeEmployees': 144000, 'longBusinessSummary': 'Microsoft Corporation develops, licenses, and supports software, services, devices, and solutions worldwide. Its Productivity and Business Processes segment offers Office, Exchange, SharePoint, Microsoft Teams, Office 365 Security and Compliance, and Skype for Business, as well as related Client Access Licenses (CAL); Skype, Outlook.com, and OneDrive; LinkedIn that includes Talent and marketing solutions, and subscriptions; and Dynamics 365, a set of cloud-based and on-premises business solutions for small and medium businesses, large organizations, and divisions of enterprises. Its Intelligent Cloud segment licenses SQL and Windows Servers, Visual Studio, System Center, and related CALs; GitHub that provides a collaboration platform and code hosting service for developers; and Azure, a cloud platform. It also provides support services and Microsoft consulting services to assist customers in developing, deploying, and managing Microsoft server and desktop solutions; and training and certification to developers and IT professionals on various Microsoft products. Its More Personal Computing segment offers Windows OEM licensing and other non-volume licensing of the Windows operating system; Windows Commercial, such as volume licensing of the Windows operating system, Windows cloud services, and other Windows commercial offerings; patent licensing; Windows Internet of Things; and MSN advertising. It also provides Microsoft Surface, PC accessories, and other intelligent devices; Gaming, including Xbox hardware, and Xbox software and services; video games and third-party video game royalties; and Search, including Bing and Microsoft advertising. It sells its products through distributors and resellers; and directly through digital marketplaces, online stores, and retail stores. It has strategic partnerships with Humana Inc., Nokia, Telkomsel, Swiss Re, Kubota Corporation, and FedEx Corp. The company was founded in 1975 and is headquartered in Redmond, Washington.', 'city': 'Redmond', 'phone': '425-882-8080', 'state': 'WA', 'country': 'United States', 'companyOfficers': [], 'website': 'http://www.microsoft.com', 'maxAge': 1, 'address1': 'One Microsoft Way', 'fax': '425-706-7329', 'industry': 'Software—Infrastructure', 'previousClose': 196.33, 'regularMarketOpen': 195.78, 'twoHundredDayAverage': 171.05257, 'trailingAnnualDividendYield': 0.010135995, 'payoutRatio': 0.32330000000000003, 'volume24Hr': None, 'regularMarketDayHigh': 198.19, 'navPrice': None, 'averageDailyVolume10Day': 37895183, 'totalAssets': None, 'regularMarketPreviousClose': 196.33, 'fiftyDayAverage': 188.2147, 'trailingAnnualDividendRate': 1.99, 'open': 195.78, 'toCurrency': None, 'averageVolume10days': 37895183, 'expireDate': None, 'yield': None, 'algorithm': None, 'dividendRate': 2.04, 'exDividendDate': 1597795200, 'beta': 0.9255369999999999, 'circulatingSupply': None, 'startDate': None, 'regularMarketDayLow': 193.56, 'priceHint': 2, 'currency': 'USD', 'trailingPE': 32.924026, 'regularMarketVolume': 21102382, 'lastMarket': None, 'maxSupply': None, 'openInterest': None, 'marketCap': 1498563608576, 'volumeAllCurrencies': None, 'strikePrice': None, 'averageVolume': 39978820, 'priceToSalesTrailing12Months': 10.80443, 'dayLow': 193.56, 'ask': 197.73, 'ytdReturn': None, 'askSize': 900, 'volume': 21102382, 'fiftyTwoWeekHigh': 203.95, 'forwardPE': 31.770098, 'fromCurrency': None, 'fiveYearAvgDividendYield': 1.92, 'fiftyTwoWeekLow': 130.78, 'bid': 197.75, 'tradeable': False, 'dividendYield': 0.010400000000000001, 'bidSize': 800, 'dayHigh': 198.19, 'exchange': 'NMS', 'shortName': 'Microsoft Corporation', 'longName': 'Microsoft Corporation', 'exchangeTimezoneName': 'America/New_York', 'exchangeTimezoneShortName': 'EDT', 'isEsgPopulated': False, 'gmtOffSetMilliseconds': '-14400000', 'quoteType': 'EQUITY', 'symbol': 'MSFT', 'messageBoardId': 'finmb_21835', 'market': 'us_market', 'annualHoldingsTurnover': None, 'enterpriseToRevenue': 10.348, 'beta3Year': None, 'profitMargins': 0.33356997, 'enterpriseToEbitda': 22.394, '52WeekChange': 0.44700778, 'morningStarRiskRating': None, 'forwardEps': 6.22, 'revenueQuarterlyGrowth': None, 'sharesOutstanding': 7583439872, 'fundInceptionDate': None, 'annualReportExpenseRatio': None, 'bookValue': 15.086, 'sharesShort': 42930465, 'sharesPercentSharesOut': 0.0057, 'fundFamily': None, 'lastFiscalYearEnd': 1561852800, 'heldPercentInstitutions': 0.7409300000000001, 'netIncomeToCommon': 46265999360, 'trailingEps': 6.002, 'lastDividendValue': None, 'SandP52WeekChange': 0.015086055000000001, 'priceToBook': 13.099562, 'heldPercentInsiders': 0.014249999000000001, 'nextFiscalYearEnd': 1625011200, 'mostRecentQuarter': 1585612800, 'shortRatio': 1.24, 'sharesShortPreviousMonthDate': 1589500800, 'floatShares': 7472267013, 'enterpriseValue': 1435239841792, 'threeYearAverageReturn': None, 'lastSplitDate': 1045526400, 'lastSplitFactor': '2:1', 'legalType': None, 'morningStarOverallRating': None, 'earningsQuarterlyGrowth': 0.221, 'dateShortInterest': 1592179200, 'pegRatio': 2.31, 'lastCapGain': None, 'shortPercentOfFloat': 0.0057, 'sharesShortPriorMonth': 44236712, 'category': None, 'fiveYearAverageReturn': None, 'regularMarketPrice': 195.78, 'logo_url': 'https://logo.clearbit.com/microsoft.com'}\n"
     ]
    }
   ],
   "source": [
    "print(microsoft.info)"
   ]
  },
  {
   "cell_type": "code",
   "execution_count": 11,
   "metadata": {},
   "outputs": [
    {
     "name": "stdout",
     "output_type": "stream",
     "text": [
      "America/New_York\n"
     ]
    }
   ],
   "source": [
    "print(microsoft.info['exchangeTimezoneName'])"
   ]
  },
  {
   "cell_type": "code",
   "execution_count": 17,
   "metadata": {},
   "outputs": [],
   "source": [
    "info_dict = microsoft.info"
   ]
  },
  {
   "cell_type": "code",
   "execution_count": 19,
   "metadata": {},
   "outputs": [
    {
     "name": "stdout",
     "output_type": "stream",
     "text": [
      "zip  :  98052\n",
      "sector  :  Technology\n",
      "fullTimeEmployees  :  144000\n",
      "longBusinessSummary  :  Microsoft Corporation develops, licenses, and supports software, services, devices, and solutions worldwide. Its Productivity and Business Processes segment offers Office, Exchange, SharePoint, Microsoft Teams, Office 365 Security and Compliance, and Skype for Business, as well as related Client Access Licenses (CAL); Skype, Outlook.com, and OneDrive; LinkedIn that includes Talent and marketing solutions, and subscriptions; and Dynamics 365, a set of cloud-based and on-premises business solutions for small and medium businesses, large organizations, and divisions of enterprises. Its Intelligent Cloud segment licenses SQL and Windows Servers, Visual Studio, System Center, and related CALs; GitHub that provides a collaboration platform and code hosting service for developers; and Azure, a cloud platform. It also provides support services and Microsoft consulting services to assist customers in developing, deploying, and managing Microsoft server and desktop solutions; and training and certification to developers and IT professionals on various Microsoft products. Its More Personal Computing segment offers Windows OEM licensing and other non-volume licensing of the Windows operating system; Windows Commercial, such as volume licensing of the Windows operating system, Windows cloud services, and other Windows commercial offerings; patent licensing; Windows Internet of Things; and MSN advertising. It also provides Microsoft Surface, PC accessories, and other intelligent devices; Gaming, including Xbox hardware, and Xbox software and services; video games and third-party video game royalties; and Search, including Bing and Microsoft advertising. It sells its products through distributors and resellers; and directly through digital marketplaces, online stores, and retail stores. It has strategic partnerships with Humana Inc., Nokia, Telkomsel, Swiss Re, Kubota Corporation, and FedEx Corp. The company was founded in 1975 and is headquartered in Redmond, Washington.\n",
      "city  :  Redmond\n",
      "phone  :  425-882-8080\n",
      "state  :  WA\n",
      "country  :  United States\n",
      "companyOfficers  :  []\n",
      "website  :  http://www.microsoft.com\n",
      "maxAge  :  1\n",
      "address1  :  One Microsoft Way\n",
      "fax  :  425-706-7329\n",
      "industry  :  Software—Infrastructure\n",
      "previousClose  :  196.33\n",
      "regularMarketOpen  :  195.78\n",
      "twoHundredDayAverage  :  171.05257\n",
      "trailingAnnualDividendYield  :  0.010135995\n",
      "payoutRatio  :  0.32330000000000003\n",
      "volume24Hr  :  None\n",
      "regularMarketDayHigh  :  198.19\n",
      "navPrice  :  None\n",
      "averageDailyVolume10Day  :  37895183\n",
      "totalAssets  :  None\n",
      "regularMarketPreviousClose  :  196.33\n",
      "fiftyDayAverage  :  188.2147\n",
      "trailingAnnualDividendRate  :  1.99\n",
      "open  :  195.78\n",
      "toCurrency  :  None\n",
      "averageVolume10days  :  37895183\n",
      "expireDate  :  None\n",
      "yield  :  None\n",
      "algorithm  :  None\n",
      "dividendRate  :  2.04\n",
      "exDividendDate  :  1597795200\n",
      "beta  :  0.9255369999999999\n",
      "circulatingSupply  :  None\n",
      "startDate  :  None\n",
      "regularMarketDayLow  :  193.56\n",
      "priceHint  :  2\n",
      "currency  :  USD\n",
      "trailingPE  :  32.924026\n",
      "regularMarketVolume  :  21102382\n",
      "lastMarket  :  None\n",
      "maxSupply  :  None\n",
      "openInterest  :  None\n",
      "marketCap  :  1498563608576\n",
      "volumeAllCurrencies  :  None\n",
      "strikePrice  :  None\n",
      "averageVolume  :  39978820\n",
      "priceToSalesTrailing12Months  :  10.80443\n",
      "dayLow  :  193.56\n",
      "ask  :  197.73\n",
      "ytdReturn  :  None\n",
      "askSize  :  900\n",
      "volume  :  21102382\n",
      "fiftyTwoWeekHigh  :  203.95\n",
      "forwardPE  :  31.770098\n",
      "fromCurrency  :  None\n",
      "fiveYearAvgDividendYield  :  1.92\n",
      "fiftyTwoWeekLow  :  130.78\n",
      "bid  :  197.75\n",
      "tradeable  :  False\n",
      "dividendYield  :  0.010400000000000001\n",
      "bidSize  :  800\n",
      "dayHigh  :  198.19\n",
      "exchange  :  NMS\n",
      "shortName  :  Microsoft Corporation\n",
      "longName  :  Microsoft Corporation\n",
      "exchangeTimezoneName  :  America/New_York\n",
      "exchangeTimezoneShortName  :  EDT\n",
      "isEsgPopulated  :  False\n",
      "gmtOffSetMilliseconds  :  -14400000\n",
      "quoteType  :  EQUITY\n",
      "symbol  :  MSFT\n",
      "messageBoardId  :  finmb_21835\n",
      "market  :  us_market\n",
      "annualHoldingsTurnover  :  None\n",
      "enterpriseToRevenue  :  10.348\n",
      "beta3Year  :  None\n",
      "profitMargins  :  0.33356997\n",
      "enterpriseToEbitda  :  22.394\n",
      "52WeekChange  :  0.44700778\n",
      "morningStarRiskRating  :  None\n",
      "forwardEps  :  6.22\n",
      "revenueQuarterlyGrowth  :  None\n",
      "sharesOutstanding  :  7583439872\n",
      "fundInceptionDate  :  None\n",
      "annualReportExpenseRatio  :  None\n",
      "bookValue  :  15.086\n",
      "sharesShort  :  42930465\n",
      "sharesPercentSharesOut  :  0.0057\n",
      "fundFamily  :  None\n",
      "lastFiscalYearEnd  :  1561852800\n",
      "heldPercentInstitutions  :  0.7409300000000001\n",
      "netIncomeToCommon  :  46265999360\n",
      "trailingEps  :  6.002\n",
      "lastDividendValue  :  None\n",
      "SandP52WeekChange  :  0.015086055000000001\n",
      "priceToBook  :  13.099562\n",
      "heldPercentInsiders  :  0.014249999000000001\n",
      "nextFiscalYearEnd  :  1625011200\n",
      "mostRecentQuarter  :  1585612800\n",
      "shortRatio  :  1.24\n",
      "sharesShortPreviousMonthDate  :  1589500800\n",
      "floatShares  :  7472267013\n",
      "enterpriseValue  :  1435239841792\n",
      "threeYearAverageReturn  :  None\n",
      "lastSplitDate  :  1045526400\n",
      "lastSplitFactor  :  2:1\n",
      "legalType  :  None\n",
      "morningStarOverallRating  :  None\n",
      "earningsQuarterlyGrowth  :  0.221\n",
      "dateShortInterest  :  1592179200\n",
      "pegRatio  :  2.31\n",
      "lastCapGain  :  None\n",
      "shortPercentOfFloat  :  0.0057\n",
      "sharesShortPriorMonth  :  44236712\n",
      "category  :  None\n",
      "fiveYearAverageReturn  :  None\n",
      "regularMarketPrice  :  195.78\n",
      "logo_url  :  https://logo.clearbit.com/microsoft.com\n"
     ]
    }
   ],
   "source": [
    "for k,v in info_dict.items():\n",
    "    print(k,\" : \",v)"
   ]
  },
  {
   "cell_type": "code",
   "execution_count": 20,
   "metadata": {},
   "outputs": [
    {
     "data": {
      "text/plain": [
       "<bound method TickerBase.history of yfinance.Ticker object <MSFT>>"
      ]
     },
     "execution_count": 20,
     "metadata": {},
     "output_type": "execute_result"
    }
   ],
   "source": [
    "microsoft.history"
   ]
  },
  {
   "cell_type": "code",
   "execution_count": null,
   "metadata": {},
   "outputs": [],
   "source": []
  }
 ],
 "metadata": {
  "kernelspec": {
   "display_name": "Python 3",
   "language": "python",
   "name": "python3"
  },
  "language_info": {
   "codemirror_mode": {
    "name": "ipython",
    "version": 3
   },
   "file_extension": ".py",
   "mimetype": "text/x-python",
   "name": "python",
   "nbconvert_exporter": "python",
   "pygments_lexer": "ipython3",
   "version": "3.7.6"
  }
 },
 "nbformat": 4,
 "nbformat_minor": 4
}

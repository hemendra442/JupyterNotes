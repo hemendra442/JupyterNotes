{
 "cells": [
  {
   "cell_type": "code",
   "execution_count": 5,
   "metadata": {},
   "outputs": [],
   "source": [
    "#pip install gtts"
   ]
  },
  {
   "cell_type": "code",
   "execution_count": 21,
   "metadata": {},
   "outputs": [],
   "source": [
    "from gtts import gTTS\n",
    "import os"
   ]
  },
  {
   "cell_type": "code",
   "execution_count": 7,
   "metadata": {},
   "outputs": [
    {
     "data": {
      "text/plain": [
       "0"
      ]
     },
     "execution_count": 7,
     "metadata": {},
     "output_type": "execute_result"
    }
   ],
   "source": [
    "text = \"Hi Hemendra, Great Job.\"\n",
    "lan = 'en'\n",
    "speech = gTTS(text = text, lang= lan, slow = False)\n",
    "speech.save(\"Text2Speech1.mp3\")\n",
    "os.system(\"start Text2Speech1.mp3\")"
   ]
  },
  {
   "cell_type": "markdown",
   "metadata": {},
   "source": [
    "#Text to Speech _File to Audio"
   ]
  },
  {
   "cell_type": "code",
   "execution_count": 1,
   "metadata": {},
   "outputs": [
    {
     "data": {
      "text/plain": [
       "0"
      ]
     },
     "execution_count": 1,
     "metadata": {},
     "output_type": "execute_result"
    }
   ],
   "source": [
    "from gtts import gTTS\n",
    "import os\n",
    "\n",
    "book = open(\"C:\\\\Users\\\\madhuyen\\\\Desktop\\\\HEMENDRA J\\\\SpeechToTextBook.txt\",'r')\n",
    "myText = book.read().replace(\"\\n\",\"\")\n",
    "lan = 'en-in'\n",
    "audio = gTTS(text = myText, lang= lan, slow = False)\n",
    "audio.save(\"IndiaAnthem.mp3\")\n",
    "book.close()\n",
    "os.system(\"start IndiaAnthem.mp3\")\n"
   ]
  },
  {
   "cell_type": "code",
   "execution_count": null,
   "metadata": {},
   "outputs": [],
   "source": []
  },
  {
   "cell_type": "code",
   "execution_count": 24,
   "metadata": {},
   "outputs": [
    {
     "data": {
      "text/plain": [
       "0"
      ]
     },
     "execution_count": 24,
     "metadata": {},
     "output_type": "execute_result"
    }
   ],
   "source": [
    "from gtts import gTTS\n",
    "import os\n",
    "\n",
    "book = open(\"C:\\\\Users\\\\madhuyen\\\\Desktop\\\\HEMENDRA J\\\\SpeechToTextBookTelugu.txt\",'r')\n",
    "myText = book.read()\n",
    "lan = 'en-in'\n",
    "audio = gTTS(text = myText, lang= lan, slow = False)\n",
    "audio.save(\"SpeechToTextBookTelugu.mp3\")\n",
    "book.close()\n",
    "os.system(\"start SpeechToTextBookTelugu.mp3\")"
   ]
  },
  {
   "cell_type": "code",
   "execution_count": null,
   "metadata": {},
   "outputs": [],
   "source": []
  }
 ],
 "metadata": {
  "kernelspec": {
   "display_name": "Python 3",
   "language": "python",
   "name": "python3"
  },
  "language_info": {
   "codemirror_mode": {
    "name": "ipython",
    "version": 3
   },
   "file_extension": ".py",
   "mimetype": "text/x-python",
   "name": "python",
   "nbconvert_exporter": "python",
   "pygments_lexer": "ipython3",
   "version": "3.7.6"
  }
 },
 "nbformat": 4,
 "nbformat_minor": 4
}
